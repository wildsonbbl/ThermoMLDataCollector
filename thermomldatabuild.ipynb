{
 "cells": [
  {
   "attachments": {},
   "cell_type": "markdown",
   "metadata": {},
   "source": [
    "# Collecting data from ThermoML xml files"
   ]
  },
  {
   "cell_type": "code",
   "execution_count": 1,
   "metadata": {},
   "outputs": [
    {
     "name": "stdout",
     "output_type": "stream",
     "text": [
      "Compiling ThermoMLBuilder.pyx because it changed.\n",
      "[1/1] Cythonizing ThermoMLBuilder.pyx\n",
      "/usr/local/lib/python3.9/dist-packages/Cython/Compiler/Main.py:369: FutureWarning: Cython directive 'language_level' not set, using 2 for now (Py2). This will change in a later release! File: /workspaces/ThermoMLDataCollector/ThermoMLBuilder.pyx\n",
      "  tree = Parsing.p_module(s, pxd, full_module_name)\n",
      "running build_ext\n",
      "building 'ThermoMLBuilder' extension\n",
      "x86_64-linux-gnu-gcc -pthread -Wno-unused-result -Wsign-compare -DNDEBUG -g -fwrapv -O2 -Wall -g -fstack-protector-strong -Wformat -Werror=format-security -g -fwrapv -O2 -fPIC -I/usr/include/python3.9 -c ThermoMLBuilder.c -o build/temp.linux-x86_64-cpython-39/ThermoMLBuilder.o\n",
      "x86_64-linux-gnu-gcc -pthread -shared -Wl,-O1 -Wl,-Bsymbolic-functions -Wl,-Bsymbolic-functions -g -fwrapv -O2 build/temp.linux-x86_64-cpython-39/ThermoMLBuilder.o -L/usr/lib/x86_64-linux-gnu -o build/lib.linux-x86_64-cpython-39/ThermoMLBuilder.cpython-39-x86_64-linux-gnu.so\n",
      "copying build/lib.linux-x86_64-cpython-39/ThermoMLBuilder.cpython-39-x86_64-linux-gnu.so -> \n"
     ]
    }
   ],
   "source": [
    "!python setup.py build_ext --inplace"
   ]
  },
  {
   "cell_type": "code",
   "execution_count": 2,
   "metadata": {},
   "outputs": [],
   "source": [
    "# pyxbgen -u ThermoML/ThermoML.xsd -m ThermoML/thermoml_schema"
   ]
  },
  {
   "cell_type": "code",
   "execution_count": 3,
   "metadata": {},
   "outputs": [],
   "source": [
    "import os\n",
    "from ThermoMLBuilder import build_dataset\n",
    "import polars as pl\n",
    "import numpy as np\n",
    "from importlib import reload\n",
    "import glob\n",
    "from rdkit import Chem\n",
    "from rdkit.Chem.rdMolDescriptors import CalcExactMolWt"
   ]
  },
  {
   "attachments": {},
   "cell_type": "markdown",
   "metadata": {},
   "source": [
    "thermoml_schema.py generator:"
   ]
  },
  {
   "cell_type": "code",
   "execution_count": 4,
   "metadata": {},
   "outputs": [],
   "source": [
    "def RetrieveFiles():\n",
    "    \"\"\"Outputs a list of files path from reference DOIs (taken from https://trc.nist.gov/ThermoML/Browse)\n",
    "    \n",
    "    Parameters\n",
    "    ----------\n",
    "    ref: str\n",
    "        file path for the file with the reference DOIs\n",
    "\n",
    "    Outputs\n",
    "    ----------\n",
    "    files: list(str)\n",
    "        list of paths for each reference file\n",
    "    \"\"\"\n",
    "\n",
    "\n",
    "    dir = os.getcwd()\n",
    "    files = [os.path.join(dir, file)\n",
    "                for file in glob.glob('ThermoML/*/*.xml')]\n",
    "    return files\n"
   ]
  },
  {
   "attachments": {},
   "cell_type": "markdown",
   "metadata": {},
   "source": [
    "## Raw data"
   ]
  },
  {
   "attachments": {},
   "cell_type": "markdown",
   "metadata": {},
   "source": [
    "Collecting data from all files"
   ]
  },
  {
   "cell_type": "code",
   "execution_count": 5,
   "metadata": {},
   "outputs": [
    {
     "data": {
      "text/plain": [
       "'/workspaces/ThermoMLDataCollector/ThermoML/10.1007/s10765-005-5566-6.xml'"
      ]
     },
     "execution_count": 5,
     "metadata": {},
     "output_type": "execute_result"
    }
   ],
   "source": [
    "files = RetrieveFiles() \n",
    "files[0]"
   ]
  },
  {
   "cell_type": "code",
   "execution_count": 6,
   "metadata": {},
   "outputs": [
    {
     "name": "stderr",
     "output_type": "stream",
     "text": [
      "files:   1%|          | 121/11923 [01:39<3:04:07,  1.07it/s]"
     ]
    }
   ],
   "source": [
    "data = build_dataset(files,'data','raw')"
   ]
  },
  {
   "cell_type": "code",
   "execution_count": null,
   "metadata": {},
   "outputs": [],
   "source": [
    "df = pl.read_parquet('../ePC-SAFT/data/thermoml/raw/dataden.parquet')"
   ]
  },
  {
   "cell_type": "code",
   "execution_count": null,
   "metadata": {},
   "outputs": [],
   "source": [
    "def mw(inchi):\n",
    "    \n",
    "    try:\n",
    "        mol = Chem.MolFromInchi(inchi, removeHs=False)\n",
    "        mol = Chem.AddHs(mol)\n",
    "        mol_weight = CalcExactMolWt(mol)\n",
    "    except:\n",
    "        mol_weight = 0\n",
    "\n",
    "    return mol_weight"
   ]
  },
  {
   "cell_type": "code",
   "execution_count": null,
   "metadata": {},
   "outputs": [],
   "source": [
    "mw1 = df['inchi1'].apply(mw).rename('mw1')"
   ]
  },
  {
   "cell_type": "code",
   "execution_count": null,
   "metadata": {},
   "outputs": [],
   "source": [
    "df = df.with_columns(mw1)"
   ]
  },
  {
   "cell_type": "code",
   "execution_count": null,
   "metadata": {},
   "outputs": [],
   "source": [
    "mw2 = df['inchi2'].apply(mw).rename('mw2')"
   ]
  },
  {
   "cell_type": "code",
   "execution_count": null,
   "metadata": {},
   "outputs": [],
   "source": [
    "df = df.with_columns(mw2)"
   ]
  },
  {
   "cell_type": "code",
   "execution_count": null,
   "metadata": {},
   "outputs": [],
   "source": [
    "df.write_parquet('../ePC-SAFT/data/thermoml/raw/dataden.parquet')"
   ]
  }
 ],
 "metadata": {
  "kernelspec": {
   "display_name": "analysis",
   "language": "python",
   "name": "python3"
  },
  "language_info": {
   "codemirror_mode": {
    "name": "ipython",
    "version": 3
   },
   "file_extension": ".py",
   "mimetype": "text/x-python",
   "name": "python",
   "nbconvert_exporter": "python",
   "pygments_lexer": "ipython3",
   "version": "3.9.16"
  },
  "orig_nbformat": 4,
  "vscode": {
   "interpreter": {
    "hash": "7ead35e5953a632f2deb9d9ab784536e1b1816e8f33be33c54bd764c9a2c7f5f"
   }
  }
 },
 "nbformat": 4,
 "nbformat_minor": 2
}
