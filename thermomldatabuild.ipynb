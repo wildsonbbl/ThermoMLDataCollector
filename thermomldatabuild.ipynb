{
 "cells": [
  {
   "attachments": {},
   "cell_type": "markdown",
   "metadata": {},
   "source": [
    "# Collecting data from ThermoML xml files\n"
   ]
  },
  {
   "cell_type": "code",
   "execution_count": null,
   "metadata": {},
   "outputs": [],
   "source": [
    "import os\n",
    "from ThermoML import ThermoMLBuilder\n",
    "import polars as pl\n",
    "import numpy as np\n",
    "from importlib import reload\n",
    "import glob\n",
    "from rdkit import Chem\n",
    "from rdkit.Chem.rdMolDescriptors import CalcExactMolWt"
   ]
  },
  {
   "attachments": {},
   "cell_type": "markdown",
   "metadata": {},
   "source": [
    "thermoml_schema.py generator:\n"
   ]
  },
  {
   "cell_type": "code",
   "execution_count": null,
   "metadata": {},
   "outputs": [],
   "source": [
    "# pyxbgen -u ThermoML/ThermoML.xsd -m ThermoML/thermoml_schema"
   ]
  },
  {
   "cell_type": "code",
   "execution_count": null,
   "metadata": {},
   "outputs": [],
   "source": [
    "def RetrieveFiles():\n",
    "    \"\"\"\n",
    "    Outputs a list of files path from ThermoML archive.\n",
    "\n",
    "    Outputs\n",
    "    ----------\n",
    "    files: list(str)\n",
    "        list of paths for each reference file\n",
    "    \"\"\"\n",
    "\n",
    "    dir = os.getcwd()\n",
    "    files = [os.path.join(dir, file) for file in glob.glob(\"ThermoML/*/*.xml\")]\n",
    "    return files"
   ]
  },
  {
   "attachments": {},
   "cell_type": "markdown",
   "metadata": {},
   "source": [
    "## Raw data\n"
   ]
  },
  {
   "attachments": {},
   "cell_type": "markdown",
   "metadata": {},
   "source": [
    "Collecting data from all files\n"
   ]
  },
  {
   "cell_type": "code",
   "execution_count": null,
   "metadata": {},
   "outputs": [],
   "source": [
    "files = RetrieveFiles()\n",
    "files[0]"
   ]
  },
  {
   "cell_type": "code",
   "execution_count": null,
   "metadata": {},
   "outputs": [],
   "source": [
    "data = ThermoMLBuilder.build_dataset(files, \"raw\", executor=\"process\", max_workers=12)"
   ]
  }
 ],
 "metadata": {
  "kernelspec": {
   "display_name": "ThermoMLDataCollector (3.11.11)",
   "language": "python",
   "name": "python3"
  },
  "language_info": {
   "codemirror_mode": {
    "name": "ipython",
    "version": 3
   },
   "file_extension": ".py",
   "mimetype": "text/x-python",
   "name": "python",
   "nbconvert_exporter": "python",
   "pygments_lexer": "ipython3",
   "version": "3.11.11"
  },
  "orig_nbformat": 4
 },
 "nbformat": 4,
 "nbformat_minor": 2
}
