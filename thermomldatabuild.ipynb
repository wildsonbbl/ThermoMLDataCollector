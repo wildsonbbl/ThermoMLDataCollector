{
 "cells": [
  {
   "attachments": {},
   "cell_type": "markdown",
   "metadata": {},
   "source": [
    "# Collecting data from ThermoML xml files"
   ]
  },
  {
   "cell_type": "code",
   "execution_count": null,
   "metadata": {},
   "outputs": [],
   "source": [
    "import os\n",
    "from ThermoML import ThermoMLBuilder\n",
    "import polars as pl\n",
    "import numpy as np\n",
    "from importlib import reload"
   ]
  },
  {
   "cell_type": "code",
   "execution_count": null,
   "metadata": {},
   "outputs": [],
   "source": [
    "def RetrieveFiles(ref:str):\n",
    "    \"\"\"Outputs a list of files path from reference DOIs (taken from https://trc.nist.gov/ThermoML/Browse)\n",
    "    \n",
    "    Parameters\n",
    "    ----------\n",
    "    ref: str\n",
    "        file path for the file with the reference DOIs\n",
    "\n",
    "    Outputs\n",
    "    ----------\n",
    "    files: list(str)\n",
    "        list of paths for each reference file\n",
    "    \"\"\"\n",
    "\n",
    "\n",
    "    dir = os.getcwd()\n",
    "    files = []\n",
    "    with open(ref, 'r') as f:\n",
    "        files = [os.path.join(dir, 'ThermoML', file.strip()+'.xml')\n",
    "                for file in f.readlines()]\n",
    "    return files\n"
   ]
  },
  {
   "attachments": {},
   "cell_type": "markdown",
   "metadata": {},
   "source": [
    "## Activity coeficient"
   ]
  },
  {
   "attachments": {},
   "cell_type": "markdown",
   "metadata": {},
   "source": [
    "Collecting data from files with activity coeficient data"
   ]
  },
  {
   "cell_type": "code",
   "execution_count": null,
   "metadata": {},
   "outputs": [],
   "source": [
    "files = RetrieveFiles('ThermoML/binaryAC.txt') \n",
    "files[0]"
   ]
  },
  {
   "cell_type": "code",
   "execution_count": null,
   "metadata": {},
   "outputs": [],
   "source": [
    "data = ThermoMLBuilder.build_dataset(files,'binaryAC.parquet','AC')"
   ]
  },
  {
   "attachments": {},
   "cell_type": "markdown",
   "metadata": {},
   "source": [
    "## Binary density"
   ]
  },
  {
   "attachments": {},
   "cell_type": "markdown",
   "metadata": {},
   "source": [
    "Collecting data from files with density data for binary systems"
   ]
  },
  {
   "cell_type": "code",
   "execution_count": null,
   "metadata": {},
   "outputs": [],
   "source": [
    "files = RetrieveFiles('ThermoML/binaryD.txt') \n",
    "files[0]"
   ]
  },
  {
   "cell_type": "code",
   "execution_count": null,
   "metadata": {},
   "outputs": [],
   "source": [
    "data = ThermoMLBuilder.build_dataset(files,'binaryD.parquet','density')"
   ]
  },
  {
   "attachments": {},
   "cell_type": "markdown",
   "metadata": {},
   "source": [
    "## Binary Vapor pressure"
   ]
  },
  {
   "attachments": {},
   "cell_type": "markdown",
   "metadata": {},
   "source": [
    "Collecting data from files with vapor pressure data for binary systems"
   ]
  },
  {
   "cell_type": "code",
   "execution_count": null,
   "metadata": {},
   "outputs": [],
   "source": [
    "files = RetrieveFiles('ThermoML/binaryVP.txt')\n",
    "files[0]"
   ]
  },
  {
   "cell_type": "code",
   "execution_count": null,
   "metadata": {},
   "outputs": [],
   "source": [
    "data = ThermoMLBuilder.build_dataset(files,'binaryVP.parquet','VP')"
   ]
  },
  {
   "attachments": {},
   "cell_type": "markdown",
   "metadata": {},
   "source": [
    "## Pure Vapor pressure"
   ]
  },
  {
   "cell_type": "markdown",
   "metadata": {},
   "source": [
    "Collecting data from files with vapor pressure data for binary systems"
   ]
  },
  {
   "cell_type": "code",
   "execution_count": 37,
   "metadata": {},
   "outputs": [
    {
     "data": {
      "text/plain": [
       "'/home/wildsonbbl/documents/code/themoml/ThermoML/10.1021/je800300x.xml'"
      ]
     },
     "execution_count": 37,
     "metadata": {},
     "output_type": "execute_result"
    }
   ],
   "source": [
    "files = RetrieveFiles('ThermoML/pureVP.txt')\n",
    "files[0]"
   ]
  },
  {
   "cell_type": "code",
   "execution_count": 38,
   "metadata": {},
   "outputs": [
    {
     "name": "stderr",
     "output_type": "stream",
     "text": [
      "files: 100%|██████████| 1462/1462 [18:12<00:00,  1.34it/s] \n"
     ]
    }
   ],
   "source": [
    "data = ThermoMLBuilder.build_dataset(files,'pureVP.parquet','pVP')"
   ]
  },
  {
   "attachments": {},
   "cell_type": "markdown",
   "metadata": {},
   "source": [
    "## Pure Density"
   ]
  },
  {
   "cell_type": "markdown",
   "metadata": {},
   "source": [
    "Collecting data from files with vapor pressure data for binary systems"
   ]
  },
  {
   "cell_type": "code",
   "execution_count": 43,
   "metadata": {},
   "outputs": [
    {
     "data": {
      "text/plain": [
       "'/home/wildsonbbl/documents/code/themoml/ThermoML/10.1021/acs.jced.6b00269.xml'"
      ]
     },
     "execution_count": 43,
     "metadata": {},
     "output_type": "execute_result"
    }
   ],
   "source": [
    "files = RetrieveFiles('ThermoML/pureD.txt')\n",
    "files[0]"
   ]
  },
  {
   "cell_type": "code",
   "execution_count": 42,
   "metadata": {},
   "outputs": [
    {
     "name": "stderr",
     "output_type": "stream",
     "text": [
      "files: 100%|██████████| 3465/3465 [1:24:34<00:00,  1.46s/it]  \n"
     ]
    }
   ],
   "source": [
    "data = ThermoMLBuilder.build_dataset(files,'pureD.parquet','pDensity')"
   ]
  }
 ],
 "metadata": {
  "kernelspec": {
   "display_name": "analysis",
   "language": "python",
   "name": "python3"
  },
  "language_info": {
   "codemirror_mode": {
    "name": "ipython",
    "version": 3
   },
   "file_extension": ".py",
   "mimetype": "text/x-python",
   "name": "python",
   "nbconvert_exporter": "python",
   "pygments_lexer": "ipython3",
   "version": "3.11.0"
  },
  "orig_nbformat": 4,
  "vscode": {
   "interpreter": {
    "hash": "7ead35e5953a632f2deb9d9ab784536e1b1816e8f33be33c54bd764c9a2c7f5f"
   }
  }
 },
 "nbformat": 4,
 "nbformat_minor": 2
}
