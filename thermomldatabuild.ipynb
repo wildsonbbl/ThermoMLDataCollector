{
 "cells": [
  {
   "attachments": {},
   "cell_type": "markdown",
   "metadata": {},
   "source": [
    "# Collecting data from ThermoML xml files"
   ]
  },
  {
   "cell_type": "code",
   "execution_count": 2,
   "metadata": {},
   "outputs": [],
   "source": [
    "import os\n",
    "from ThermoML import ThermoMLBuilder\n",
    "import polars as pl\n",
    "import numpy as np\n",
    "from importlib import reload\n",
    "import glob"
   ]
  },
  {
   "attachments": {},
   "cell_type": "markdown",
   "metadata": {},
   "source": [
    "thermoml_schema.py generator:"
   ]
  },
  {
   "cell_type": "code",
   "execution_count": 3,
   "metadata": {},
   "outputs": [],
   "source": [
    "# pyxbgen -u ThermoML/ThermoML.xsd -m ThermoML/thermoml_schema"
   ]
  },
  {
   "cell_type": "code",
   "execution_count": 4,
   "metadata": {},
   "outputs": [],
   "source": [
    "def RetrieveFiles():\n",
    "    \"\"\"Outputs a list of files path from reference DOIs (taken from https://trc.nist.gov/ThermoML/Browse)\n",
    "    \n",
    "    Parameters\n",
    "    ----------\n",
    "    ref: str\n",
    "        file path for the file with the reference DOIs\n",
    "\n",
    "    Outputs\n",
    "    ----------\n",
    "    files: list(str)\n",
    "        list of paths for each reference file\n",
    "    \"\"\"\n",
    "\n",
    "\n",
    "    dir = os.getcwd()\n",
    "    files = [os.path.join(dir, file)\n",
    "                for file in glob.glob('ThermoML/*/*.xml')]\n",
    "    return files\n"
   ]
  },
  {
   "attachments": {},
   "cell_type": "markdown",
   "metadata": {},
   "source": [
    "## Raw data"
   ]
  },
  {
   "attachments": {},
   "cell_type": "markdown",
   "metadata": {},
   "source": [
    "Collecting data from all files"
   ]
  },
  {
   "cell_type": "code",
   "execution_count": 5,
   "metadata": {},
   "outputs": [
    {
     "data": {
      "text/plain": [
       "'/home/wildsonbbl/documents/code/themoml/ThermoML/10.1016/j.fluid.2019.06.015.xml'"
      ]
     },
     "execution_count": 5,
     "metadata": {},
     "output_type": "execute_result"
    }
   ],
   "source": [
    "files = RetrieveFiles() \n",
    "files[0]"
   ]
  },
  {
   "cell_type": "code",
   "execution_count": 9,
   "metadata": {},
   "outputs": [
    {
     "name": "stderr",
     "output_type": "stream",
     "text": [
      "files: 100%|██████████| 11923/11923 [3:21:53<00:00,  1.02s/it]   \n"
     ]
    }
   ],
   "source": [
    "data = ThermoMLBuilder.build_dataset(files,'data','raw')"
   ]
  }
 ],
 "metadata": {
  "kernelspec": {
   "display_name": "analysis",
   "language": "python",
   "name": "python3"
  },
  "language_info": {
   "codemirror_mode": {
    "name": "ipython",
    "version": 3
   },
   "file_extension": ".py",
   "mimetype": "text/x-python",
   "name": "python",
   "nbconvert_exporter": "python",
   "pygments_lexer": "ipython3",
   "version": "3.11.0"
  },
  "orig_nbformat": 4,
  "vscode": {
   "interpreter": {
    "hash": "7ead35e5953a632f2deb9d9ab784536e1b1816e8f33be33c54bd764c9a2c7f5f"
   }
  }
 },
 "nbformat": 4,
 "nbformat_minor": 2
}
