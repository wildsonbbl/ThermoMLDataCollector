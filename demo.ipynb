{
 "cells": [
  {
   "attachments": {},
   "cell_type": "markdown",
   "metadata": {},
   "source": [
    "# Coletando dados dos arquivos xml do ThermoML"
   ]
  },
  {
   "cell_type": "markdown",
   "metadata": {},
   "source": [
    "## 1- Carregando pacotes e configurando ambiente python"
   ]
  },
  {
   "cell_type": "code",
   "execution_count": null,
   "metadata": {},
   "outputs": [],
   "source": [
    "import os\n",
    "from ThermoML import ThermoMLBuilder\n",
    "import glob"
   ]
  },
  {
   "attachments": {},
   "cell_type": "markdown",
   "metadata": {},
   "source": [
    "- gerador do arquivo thermoml_schema.py necessário para ler os arquivos xml"
   ]
  },
  {
   "cell_type": "code",
   "execution_count": null,
   "metadata": {},
   "outputs": [],
   "source": [
    "!pyxbgen -u ThermoML/ThermoML.xsd -m ThermoML/thermoml_schema"
   ]
  },
  {
   "cell_type": "code",
   "execution_count": null,
   "metadata": {},
   "outputs": [],
   "source": [
    "def RetrieveFiles():\n",
    "    \"\"\"\n",
    "    Retorna uma lista de caminhos de arquivos do ThermoML archive.\n",
    "\n",
    "    Outputs\n",
    "    ----------\n",
    "    arquivos: list(str)\n",
    "        Uma lista com caminhos de arquivo para cada arquivo xml de referência\n",
    "    \"\"\"\n",
    "\n",
    "\n",
    "    dir = os.getcwd()\n",
    "    files = [os.path.join(dir, file)\n",
    "                for file in glob.glob('ThermoML/*/*.xml')]\n",
    "    return files\n"
   ]
  },
  {
   "attachments": {},
   "cell_type": "markdown",
   "metadata": {},
   "source": [
    "## Dados brutos (sem \"data cleaning\")"
   ]
  },
  {
   "cell_type": "markdown",
   "metadata": {},
   "source": [
    "- Chamando a função para recuperar o caminhos de todos os arquivos"
   ]
  },
  {
   "cell_type": "code",
   "execution_count": null,
   "metadata": {},
   "outputs": [],
   "source": [
    "files = RetrieveFiles()"
   ]
  },
  {
   "attachments": {},
   "cell_type": "markdown",
   "metadata": {},
   "source": [
    "- Coletando dados de todos os aquivos"
   ]
  },
  {
   "cell_type": "code",
   "execution_count": null,
   "metadata": {},
   "outputs": [],
   "source": [
    "data = ThermoMLBuilder.build_dataset(files,'data','raw')"
   ]
  }
 ],
 "metadata": {
  "kernelspec": {
   "display_name": "analysis",
   "language": "python",
   "name": "python3"
  },
  "language_info": {
   "codemirror_mode": {
    "name": "ipython",
    "version": 3
   },
   "file_extension": ".py",
   "mimetype": "text/x-python",
   "name": "python",
   "nbconvert_exporter": "python",
   "pygments_lexer": "ipython3",
   "version": "3.9.16"
  },
  "orig_nbformat": 4,
  "vscode": {
   "interpreter": {
    "hash": "7ead35e5953a632f2deb9d9ab784536e1b1816e8f33be33c54bd764c9a2c7f5f"
   }
  }
 },
 "nbformat": 4,
 "nbformat_minor": 2
}
